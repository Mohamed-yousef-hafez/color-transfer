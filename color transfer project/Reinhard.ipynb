{
 "cells": [
  {
   "cell_type": "code",
   "execution_count": 3,
   "id": "d1d6b8f0",
   "metadata": {},
   "outputs": [
    {
     "name": "stdout",
     "output_type": "stream",
     "text": [
      "pngtree-beautiful-train-tracks-that-lead-into-deep-green-forest-image_2530076.png\n"
     ]
    }
   ],
   "source": [
    "\n",
    "\"\"\"\n",
    "Reinhard color transfer \n",
    "Based on the paper: https://www.cs.tau.ac.il/~turkel/imagepapers/ColorTransfer.pdf\n",
    "\n",
    "This approach is suitable for stain normalization of pathology images where\n",
    "the 'look and feel' of all images can be normalized to a template image. \n",
    "This can be a good preprocessing step for machine learning and deep learning \n",
    "of pathology images. \n",
    "\n",
    "\"\"\"\n",
    "\n",
    "import numpy as np\n",
    "import cv2\n",
    "import os\n",
    "os.chdir(r\"C:\\Users\\amb\\Downloads\\color transfer\")\n",
    "\n",
    "input_dir = \"input_images/\"\n",
    "#input_dir = \"pathology_input/\"\n",
    "input_image_list = os.listdir(input_dir)\n",
    "\n",
    "output_dir = \"output_images/\"\n",
    "#output_dir = \"pathology_output/\"\n",
    "\n",
    "def get_mean_and_std(x):\n",
    "\tx_mean, x_std = cv2.meanStdDev(x)\n",
    "\tx_mean = np.hstack(np.around(x_mean,2)) # 9.879\n",
    "\tx_std = np.hstack(np.around(x_std,2))\n",
    "\treturn x_mean, x_std\n",
    "\n",
    "template_img = cv2.imread('template_images/images (6).jpg')\n",
    "#template_img = cv2.imread('pathology_template/3.png')\n",
    "template_img = cv2.cvtColor(template_img,cv2.COLOR_BGR2LAB)\n",
    "template_mean, template_std = get_mean_and_std(template_img)\n",
    "\n",
    "for img in (input_image_list):\n",
    "    print(img)\n",
    "    input_img = cv2.imread(input_dir+img)\n",
    "    input_img = cv2.cvtColor(input_img,cv2.COLOR_BGR2LAB)\n",
    "    \n",
    "    \n",
    "    img_mean, img_std = get_mean_and_std(input_img)\n",
    "    \n",
    "    \n",
    "    height, width, channel = input_img.shape\n",
    "    for i in range(0,height):\n",
    "        for j in range(0,width):\n",
    "            for k in range(0,channel):\n",
    "            \tx = input_img[i,j,k]\n",
    "             # print(\"x\",x)\n",
    "            \tx = ((x-img_mean[k])*(template_std[k]/img_std[k]))+template_mean[k]\n",
    "            \tx = round(x)\n",
    "            \t# boundary check\n",
    "            \tx = 0 if x<0 else x\n",
    "            \tx = 255 if x>255 else x\n",
    "            \tinput_img[i,j,k] = x\n",
    "            \n",
    "    input_img= cv2.cvtColor(input_img,cv2.COLOR_LAB2BGR)\n",
    "    cv2.imwrite(output_dir+\"modified_\"+img, input_img)\n"
   ]
  },
  {
   "cell_type": "code",
   "execution_count": null,
   "id": "a35444aa",
   "metadata": {},
   "outputs": [],
   "source": []
  }
 ],
 "metadata": {
  "kernelspec": {
   "display_name": "Python 3 (ipykernel)",
   "language": "python",
   "name": "python3"
  },
  "language_info": {
   "codemirror_mode": {
    "name": "ipython",
    "version": 3
   },
   "file_extension": ".py",
   "mimetype": "text/x-python",
   "name": "python",
   "nbconvert_exporter": "python",
   "pygments_lexer": "ipython3",
   "version": "3.9.13"
  }
 },
 "nbformat": 4,
 "nbformat_minor": 5
}
